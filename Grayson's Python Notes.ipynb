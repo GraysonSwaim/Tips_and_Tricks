{
 "cells": [
  {
   "cell_type": "markdown",
   "metadata": {},
   "source": [
    "# Grayson's Python Tips and Resources"
   ]
  },
  {
   "cell_type": "markdown",
   "metadata": {},
   "source": [
    "### INDEX:\n",
    " 1. [Manging File Paths in Python on Windows, OSX, Linux, etc.](#1:-Manging-File-Paths-in-Python-on-Windows,-OSX,-Linux,-etc.)\n",
    " - [Docstrings: Why They Help](#2:-Docstrings-help-you-understand-the-purpose-of-a-function)\n",
    " - [Logging](#3:-Logging)\n",
    " - [Anaconda and Jupyter](#4:-Install-Anaconda-and-Master-Jupyter)\n",
    " - [Understanding Matplotlib](#5:-Understanding-Matplotlib---the-heart-of-data-visualization-frameworks)\n",
    " - [Argparse: Pass Parameters into Python](#6:-Argparse-to-pass-arguments-into-your-python-script)\n",
    " - [Interacting with Other Applications](#7:-Interacting-with-Other-Applications---Windows)\n",
    " - [Web Scraping Tips](#8:-Web-Scraping-with-Selenium,-Requests,-and-BeautifulSoup)\n",
    " - [Pandas](#9:-Pandas---Favorite-Functions-and-Notes)\n",
    " - [Favorite Resources](#10:-Favorite-Python-Resources)"
   ]
  },
  {
   "cell_type": "markdown",
   "metadata": {},
   "source": [
    "## 1: Manging File Paths in Python on Windows, OSX, Linux, etc.\n",
    "[Return To Index](#Grayson's-Python-Tips-and-Resources)"
   ]
  },
  {
   "cell_type": "markdown",
   "metadata": {},
   "source": [
    "Windows embrace the back-slash character (\"\\\") - which is an escape character in python. That's a problem. \n",
    "\n",
    "The path delimiter on OSX and Linux is the forward-slash (\"/\").\n",
    "\n",
    "Lets say you copy a path to a file and paste it in your python script - pray that no successive characters contain \"\\n\" (new line) or \"\\t\"(tab).  \n",
    "\n",
    "There are several solutions - and they're not super adorable solutions:\n",
    "\n",
    "    - double up every back-slash (\"\\\") --> (\"\\\\\"). \n",
    "        - For example: \"L:\\Folder\\File.txt\" should be \"L:\\\\Folder\\\\File.txt\"\n",
    "        - Unfortunately this is too much work for deep file systems. \n",
    "        \n",
    "    - replace each back-slash with a forward-slash  (\"\\\") --> (\"/\")\n",
    "        - For example: \"L:\\Folder\\File.txt\" should be \"L:/Folder/File.txt\"\n",
    "        - Again - this is a lot work.\n",
    "        \n",
    "    - use a regex string - r'path_to_file'\n",
    "        - this... suprisingly works. But it feels flimsly. \n",
    "        \n",
    "I have a better idea... use the os library to set up your paths. "
   ]
  },
  {
   "cell_type": "code",
   "execution_count": 1,
   "metadata": {},
   "outputs": [],
   "source": [
    "# use os path library to set up your paths. It contains awesome methods to make your life easier.\n",
    "import os\n",
    "\n",
    "#get the current directory - this will return the absolute path\n",
    "current_working_directory = os.getcwd()"
   ]
  },
  {
   "cell_type": "markdown",
   "metadata": {},
   "source": [
    "Ideally, if you're going to distribute your python script - you're going to include a folders containing the necessary files. All you need is the name of the folder."
   ]
  },
  {
   "cell_type": "code",
   "execution_count": 2,
   "metadata": {},
   "outputs": [
    {
     "name": "stdout",
     "output_type": "stream",
     "text": [
      "L:\\User Reports\\GS\\Pandas Exercises\\INTERESTING\\resources\n"
     ]
    }
   ],
   "source": [
    "#just title the name of the folder containing all your resources, and use the os.path.join function!.\n",
    "#This should work on all platforms\n",
    "script_resources_subfolder = \"resources\"\n",
    "sub_folder = os.path.join(current_working_directory, script_resources_subfolder)\n",
    "print sub_folder"
   ]
  },
  {
   "cell_type": "markdown",
   "metadata": {},
   "source": [
    "And now my favorite os function -  __os.walk__. This will allow you to iterate through the sub_folders and grab the files you need and preserving the path name. os.walk returns an iterator, which will require the next function."
   ]
  },
  {
   "cell_type": "code",
   "execution_count": 3,
   "metadata": {},
   "outputs": [
    {
     "name": "stdout",
     "output_type": "stream",
     "text": [
      "L:\\User Reports\\GS\\Pandas Exercises\\INTERESTING\\resources\\text1.txt\n",
      "L:\\User Reports\\GS\\Pandas Exercises\\INTERESTING\\resources\\text2.txt\n",
      "L:\\User Reports\\GS\\Pandas Exercises\\INTERESTING\\resources\\text3.txt\n"
     ]
    }
   ],
   "source": [
    "#This targets the sub_folder, reads every file, folder path, and \n",
    "#current path top_down, and will venture into shortcut_links to locations on your network\n",
    "\n",
    "folder = os.walk(sub_folder, topdown=True, onerror=None, followlinks=True)\n",
    "\n",
    "try:\n",
    "    os_result = folder.next()\n",
    "except:\n",
    "    print \"Done\"\n",
    "\n",
    "current_location = os_result[0]\n",
    "sub_folders = os_result[1]\n",
    "files = os_result[2]\n",
    "\n",
    "for f in files:\n",
    "    print os.path.join(current_location, f)"
   ]
  },
  {
   "cell_type": "markdown",
   "metadata": {},
   "source": [
    "## 2: Docstrings help you understand the purpose of a function\n",
    "[Return To Index](#Grayson's-Python-Tips-and-Resources)"
   ]
  },
  {
   "cell_type": "markdown",
   "metadata": {},
   "source": [
    "Beginners in python rarely rarely add docstrings to their code because they think hashtag (#) comments suffice. Sure, I'm thankful for the comments - but DocStrings make things a lot easier. In fact, a lot of code-completion software parse doctrings for the users to conveniently read without explicitly visiting the file or utilizing the \\__doc\\__ attribute (see below). "
   ]
  },
  {
   "cell_type": "code",
   "execution_count": 4,
   "metadata": {},
   "outputs": [],
   "source": [
    "def someFunction(parameter_1, parameter_2, *args, **kwargs):\n",
    "    \"\"\"\n",
    "    someFunction enables you to peform a function. This is a summary. \n",
    "    \n",
    "    parameter_1: object_type - you need parameter_1\n",
    "    parameter_2: object_type - you need parameter_2\n",
    "    \n",
    "    ----Arg Parameters----\n",
    "    args: relevent args to utilize\n",
    "    \n",
    "    ----Other Parameters----\n",
    "    kwargs: relevent keywords to utilize for a specific class object or framework\n",
    "    \"\"\"\n",
    "    pass"
   ]
  },
  {
   "cell_type": "markdown",
   "metadata": {},
   "source": [
    "Now, see why docstrings are amazing..."
   ]
  },
  {
   "cell_type": "code",
   "execution_count": 5,
   "metadata": {},
   "outputs": [
    {
     "name": "stdout",
     "output_type": "stream",
     "text": [
      "\n",
      "    someFunction enables you to peform a function. This is a summary. \n",
      "    \n",
      "    parameter_1: object_type - you need parameter_1\n",
      "    parameter_2: object_type - you need parameter_2\n",
      "    \n",
      "    ----Arg Parameters----\n",
      "    args: relevent args to utilize\n",
      "    \n",
      "    ----Other Parameters----\n",
      "    kwargs: relevent keywords to utilize for a specific class object or framework\n",
      "    \n"
     ]
    }
   ],
   "source": [
    "print someFunction.__doc__"
   ]
  },
  {
   "cell_type": "markdown",
   "metadata": {},
   "source": [
    "See what happens when you call **os.walk.\\__doc\\__**. Also for further reading, check out this post by the <a href=\"http://docs.python-guide.org/en/latest/writing/documentation/\">The Hitchhiker's Guide to Python</a>."
   ]
  },
  {
   "cell_type": "markdown",
   "metadata": {},
   "source": [
    "## 3:-Logging\n",
    "[Return To Index](#Grayson's-Python-Tips-and-Resources)"
   ]
  },
  {
   "cell_type": "markdown",
   "metadata": {},
   "source": [
    "<a href=\"https://fangpenlin.com/posts/2012/08/26/good-logging-practice-in-python/\">Fang's blog post</a> will persuade you on why logging practices are super important even if you're just a beginner. \n",
    "\n",
    "Read it and you will understand:\n",
    " - why print statements are not a good idea\n",
    " - why you should use the Python standard logging module\n",
    " - how you can implement this in your code\n",
    " \n",
    "__Not reinventing the wheel...__\n",
    "\n",
    "Here are some docs:\n",
    " - <a href=\"https://docs.python.org/2/howto/logging.html#\">HOWTO</a>\n",
    " - <a href=\"https://docs.python.org/2/howto/logging-cookbook.html#logging-cookbook\">Logging Cookbook</a>\n",
    " \n",
    " __And here's the basic syntax__:"
   ]
  },
  {
   "cell_type": "code",
   "execution_count": null,
   "metadata": {},
   "outputs": [],
   "source": [
    "import logging\n",
    "\n",
    "#Create Logger & Set the Level\n",
    "logger = logging.getLogger(__name__)\n",
    "logger.setLevel(logging.DEBUG)\n",
    "\n",
    "#Create console handler\n",
    "ch = logging.SteamHandler()\n",
    "ch.setLevel(logging.DEBUG)\n",
    "\n",
    "#Create file Handler\n",
    "fh = logging.FileHandler('example.log')\n",
    "fh.setLevel(logging.DEBUG)\n",
    "\n",
    "#create Formatter\n",
    "formatter = logging.Formatter('%(asctime)s - %(name)s - %(levelname)s - %(message)s')\n",
    "ch.setFormatter(formatter)\n",
    "fh.setFormatter(formatter)\n",
    "\n",
    "#Add the ch handler\n",
    "logger.addHandler(ch)\n",
    "logger.addHandler(fh)\n",
    "\n",
    "\n",
    "logger.debug(\"This is the debug.\")\n",
    "logger.warning('watch out!')\n",
    "logger.info('I told you so')"
   ]
  },
  {
   "cell_type": "markdown",
   "metadata": {},
   "source": [
    "## 4: Install Anaconda and Master Jupyter\n",
    "[Return To Index](#Grayson's-Python-Tips-and-Resources)"
   ]
  },
  {
   "cell_type": "markdown",
   "metadata": {},
   "source": [
    "Virtualenv is like a serious ex-girlfriend. We had good thing going a long time ago and we don't need to discuss it. There's an easier way to maintain your environment as a data analyst.\n",
    "\n",
    "No, it's not pip - although almost everyone uses pip. But... \n",
    "\n",
    "<a href=\"https://www.anaconda.com/\">__Anaconda__</a>:\n",
    "\n",
    "Anaconda is a package manager that makes it so easy to maintain your enviroments, it's not even fair. Essentially, you can:\n",
    "   - Install multiple versions of pythons on the same computer\n",
    "   - Download and install libraries in their respective environments using the \"conda\" command\n",
    "   - Search through a __huge__ library of python frameworks\n",
    "   - Do many more things\n",
    "    \n",
    "Best of all - __it's free__.\n",
    "\n",
    "Here are some reasources:\n",
    " - <a href=\"https://conda.io/docs/_downloads/conda-cheatsheet.pdf\">Cheat Sheet</a>\n",
    " - <a href=\"https://docs.anaconda.com/\">Official Documentation</a>\n",
    "\n",
    "With anaconda, make sure you install...\n",
    "\n",
    "<a href=\"http://jupyter.org/\">__Jupyter__</a>:\n",
    "\n",
    "Did you recognize the platform that I'm using to write this post?\n",
    "\n",
    "Jupyter notebooks make it data analytics with Python __so easy__ because it:\n",
    "   - allows you to organize your data analysis into digestible formats\n",
    "   - render your analysis on your website, GitHub, or wherever!\n",
    "   - debug your python code\n",
    "   - explore data\n",
    "   - many more tips and tricks\n",
    " \n",
    "Here are some resources:\n",
    "- <a href=\"https://s3.amazonaws.com/assets.datacamp.com/blog_assets/Jupyter_Notebook_Cheat_Sheet.pdf\">Cheat Sheet</a>\n",
    "- <a href=\"https://www.dataquest.io/blog/jupyter-notebook-tips-tricks-shortcuts/\">28 Jupyter Notebook tips and tricks</a>\n",
    "- <a href=\"http://jupyter-notebook.readthedocs.io/en/stable/\">Official Documentation</a>\n",
    "- <a href=\"https://medium.com/ibm-data-science-experience/markdown-for-jupyter-notebooks-cheatsheet-386c05aeebed\"> Jupyter Markdowns</a>\n",
    " \n",
    " Jupyter notebook is my de facto development environment. "
   ]
  },
  {
   "cell_type": "markdown",
   "metadata": {},
   "source": [
    "## 5: Understanding Matplotlib - the heart of data visualization frameworks\n",
    "[Return To Index](#Grayson's-Python-Tips-and-Resources)"
   ]
  },
  {
   "cell_type": "markdown",
   "metadata": {},
   "source": [
    "Here's a compendium super helpful Matplotlib tutorials:\n",
    " - <a href=\"https://realpython.com/python-matplotlib-guide/#why-can-matplotlib-be-confusing\">Real Python</a>"
   ]
  },
  {
   "cell_type": "markdown",
   "metadata": {},
   "source": [
    "## 6: Argparse to pass arguments into your python script\n",
    "[Return To Index](#Grayson's-Python-Tips-and-Resources)"
   ]
  },
  {
   "cell_type": "markdown",
   "metadata": {},
   "source": [
    "Sometimes, it makes sense to call a python script from the command line or a batch file. However, you need to feed a series of parameters into the script. That's where the built-in framework __argparse__ comes in.\n",
    "\n",
    "Assuming that the end-user isn't familiar with python but wishes to utilize your script for the first time, argparse will explicitly tell the user how to utilize the script."
   ]
  },
  {
   "cell_type": "code",
   "execution_count": null,
   "metadata": {},
   "outputs": [],
   "source": [
    "import argparse\n",
    "\n",
    "parser = argparse.ArgumentParser()\n",
    "parser.add_argument(\"-n\", \"--name\", help=\"name of user\")\n",
    "parser.add_argument(\"-s\", \"--sex\", help=\"gender of user\", required=False)\n",
    "parser.add_argument(\"-a\", \"--age\", help=\"age of user\", required=False)\n",
    "args = parser.parse_args()\n",
    "print args.name"
   ]
  },
  {
   "cell_type": "markdown",
   "metadata": {},
   "source": [
    "This won't run in a jupyter notebook - but it works. Essentially, you can use this command:\n",
    "\n",
    "__file_with_argparse.py --help__\n",
    "\n",
    "And here's the output:"
   ]
  },
  {
   "cell_type": "code",
   "execution_count": null,
   "metadata": {},
   "outputs": [],
   "source": [
    "\"\"\"\n",
    "usage: logging_practice.py [-h] [-n NAME] [-s SEX] [-a AGE]\n",
    "\n",
    "optional arguments:\n",
    "  -h, --help            show this help message and exit\n",
    "  -n NAME, --name NAME  name of user\n",
    "  -s SEX, --sex SEX     gender of user\n",
    "  -a AGE, --age AGE     age of user\n",
    " \"\"\""
   ]
  },
  {
   "cell_type": "markdown",
   "metadata": {},
   "source": [
    "## 7: Interacting with Other Applications - Windows\n",
    "[Return To Index](#Grayson's-Python-Tips-and-Resources)"
   ]
  },
  {
   "cell_type": "code",
   "execution_count": 8,
   "metadata": {},
   "outputs": [],
   "source": [
    "import pyautogui as pgui\n",
    "import win32api, win32con\n",
    "\n",
    "def click(x,y):\n",
    "    \"\"\"\n",
    "    A mouse-click anywhere on the screen.\n",
    "    \n",
    "    Parameters:\n",
    "    x: horizontal pixel location on your screen\n",
    "    y: vertical pixel location on your screen\n",
    "    \"\"\"\n",
    "    win32api.SetCursorPos((x,y))\n",
    "    win32api.mouse_event(win32con.MOUSEEVENTF_LEFTDOWN,x,y,0,0)\n",
    "    win32api.mouse_event(win32con.MOUSEEVENTF_LEFTUP,x,y,0,0)\n",
    "    \n",
    "def activate_window(x=770, y=165):\n",
    "    \"\"\"\n",
    "    Activate window by utilzing the click function. It's same thing, but makes it easier for reading the code.\n",
    "    \"\"\"\n",
    "    click(x, y)\n",
    "\n",
    "\n",
    "def _write(x):\n",
    "    \"\"\"\n",
    "    This uses the Keyboard library to type out words.\n",
    "    \n",
    "    Parameters:\n",
    "    x: String\n",
    "    \"\"\"\n",
    "    pgui.typewrite(x)\n",
    "\n",
    "def _type(x):\n",
    "    \"\"\"\n",
    "    This uses the Keyboard library to type out words.\n",
    "    \n",
    "    Parameters:\n",
    "    x: String\n",
    "    \"\"\"\n",
    "    for i in str(x):\n",
    "        pgui.keyDown(i); pgui.keyUp(i)\n",
    "\n",
    "def _enter(num_times=1):\n",
    "    \"\"\"\n",
    "    Press Enter... \n",
    "    \n",
    "    Parameters:\n",
    "    num_times: integer - number of times you press enter. Default == 1\n",
    "    \"\"\"\n",
    "    for _ in range(num_times):\n",
    "        pgui.keyDown('enter'); pgui.keyUp('enter')\n",
    "\n",
    "\n",
    "def _tab(num_times=1):\n",
    "    \"\"\"\n",
    "    Press Tab... \n",
    "    \n",
    "    Parameters:\n",
    "    num_times: integer - number of times you press tab. Default == 1\n",
    "    \"\"\"\n",
    "    for _ in range(num_times):\n",
    "            pgui.keyDown('tab'); pgui.keyUp('tab')\n",
    "\n",
    "\n",
    "def _F_Key(F_Key, num_times=1):\n",
    "    \"\"\"\n",
    "    Press F_Key... \n",
    "    \n",
    "    Parameters:\n",
    "    F_key: String - Any F-Key is pressed. Example: 'f6', 'f3'\n",
    "    num_times: integer - number of times you press F_key. Default == 1\n",
    "    \"\"\"\n",
    "    for _ in range(num_times):\n",
    "            pgui.keyDown(F_Key); pgui.keyUp(F_Key)"
   ]
  },
  {
   "cell_type": "markdown",
   "metadata": {},
   "source": [
    "## 8: Web Scraping with Selenium, Requests, and BeautifulSoup\n",
    "[Return To Index](#Grayson's-Python-Tips-and-Resources)"
   ]
  },
  {
   "cell_type": "markdown",
   "metadata": {},
   "source": [
    "When API's aren't available, scraping a website is an option. Basically, you're looking at large tables in embedded in HTML, splashed across several pages on a website. You can even harvest information from javascript variables, xml element-trees, json, etc. \n",
    "\n",
    "Just remember: Get permission.\n",
    "\n",
    "To get started -\n",
    "\n",
    "__Requests and BeautifulSoup__:\n",
    "\n",
    "\n",
    "Here's an implementation:"
   ]
  },
  {
   "cell_type": "markdown",
   "metadata": {},
   "source": [
    "And here is what a link would look like. Feel free to check out the <a href=\"https://readthedocs.org/projects/beautiful-soup-4/\">beautifulsoup4 documentation</a>."
   ]
  },
  {
   "cell_type": "code",
   "execution_count": 4,
   "metadata": {},
   "outputs": [
    {
     "data": {
      "text/plain": [
       "<a href=\"/intl/en/policies/terms/\">Terms</a>"
      ]
     },
     "execution_count": 4,
     "metadata": {},
     "output_type": "execute_result"
    }
   ],
   "source": [
    "link"
   ]
  },
  {
   "cell_type": "markdown",
   "metadata": {},
   "source": [
    "__Selenium__:\n",
    "\n",
    "Web developers use selenium to test features of their websites on multiple browsers - but for our purposes, we can surf the internet programatically.\n",
    "\n",
    "That means you iterate through a large list of websites and programmatically iteract with them. Selenium can access links, images, text, and even javascript elements so you can watch the overall behavior of the website.\n",
    "\n",
    "Secondly, selenium can _extract_ elements of HTML- using features like XPATH or \"ElementTrees\". If you look at the source code, selenium makes ample use of requests and beautifulsoup. \n",
    "\n",
    "However, there are pitfalls: \n",
    "Browsers, overtime, seems to be gradually limiting support for python's version of selenium. For instance, Safari intentionally ignores certain methods of selenium whereas Chrome and Firefox doesn't seem to care - so keep that in mind. If a method isn't working out for you, try another web browser.\n",
    "\n",
    "Here's an implementation:"
   ]
  },
  {
   "cell_type": "code",
   "execution_count": null,
   "metadata": {},
   "outputs": [],
   "source": [
    "from selenium import webdriver\n",
    "from selenium.webdriver.common.keys import Keys\n",
    "\n",
    "driver = webdriver.Firefox()\n",
    "driver.get(\"http://www.python.org\")\n",
    "assert \"Python\" in driver.title\n",
    "elem = driver.find_element_by_name(\"q\")\n",
    "elem.clear()\n",
    "elem.send_keys(\"pycon\")\n",
    "elem.send_keys(Keys.RETURN)\n",
    "assert \"No results found.\" not in driver.page_source\n",
    "driver.close()"
   ]
  },
  {
   "cell_type": "markdown",
   "metadata": {},
   "source": [
    "For documentation:\n",
    "<a href=\"https://selenium-python.readthedocs.io/getting-started.html#simple-usage\">Selenium Docs</a>\n",
    "\n",
    "The trickiest part was figuring out the role of the webdriver. You will "
   ]
  },
  {
   "cell_type": "markdown",
   "metadata": {},
   "source": [
    "## 9: Pandas - Favorite Functions and Notes\n",
    "[Return To Index](#Grayson's-Python-Tips-and-Resources)"
   ]
  },
  {
   "cell_type": "code",
   "execution_count": 7,
   "metadata": {},
   "outputs": [],
   "source": [
    "import pandas as pd"
   ]
  },
  {
   "cell_type": "markdown",
   "metadata": {},
   "source": [
    "1. __When you make updates to rows of code:__\n",
    "    - __Wrong__:   df\\[\\(filter logic)] = updated_values\n",
    "    - __Correct__: df.loc[\"name of column\", df\\[(filter logic)].index] = updated_values\n",
    "    - __Explanation__: The \"wrong\" version uses the filter which effectively changing the dimensions of the dataframe. It's much slower and requires many steps to \"unfilter/unpack the dataframe\".  Imagine changing 100 rows out of 2 million with this method, only to realize that you're compressing (2m - 100) rows to change only 100 rows, and then asking pandas to retrieve everything els in memory. Thats's a lot of work! Instead, you want to update the values \"in_place\" by referring to various row indices _without_ changing the dimensions of the dataframe. The correct method basically says \"Here are the indices. Update these rows at this column without worrying about the other (2m - 100) rows!\"\n",
    "\n",
    "\n",
    "2. __Python List Slicing vs Pandas Slicing__:\n",
    "    - Remember that pandas' endpoints are _inclusive_ in slicing functions. For example, df.ix[1:5] in pandas is basically equivalent to a python slicing function pl[0:5], where the endpoint is _exclusive_.\n",
    "    - note that df means \"dataframe\" and pl means \"python list\". I consider both to contain the same data.\n",
    "    \n",
    "    \n",
    "3. __Pandas is Not Thread-Safe!__"
   ]
  },
  {
   "cell_type": "markdown",
   "metadata": {},
   "source": [
    "## 10: Interesting Tips and Resources\n",
    "[Return To Index](#Grayson's-Python-Tips-and-Resources)\n",
    "\n",
    " - <a href=\"https://chrisalbon.com/\">Chris Albon</a>\n",
    " - <a href=\"https://realpython.com/python-matplotlib-guide/#why-can-matplotlib-be-confusing\">Real Python</a>\n",
    " - <a href=\"https://s3.amazonaws.com/assets.datacamp.com/blog_assets/Jupyter_Notebook_Cheat_Sheet.pdf\">Jupyter Cheat Sheet</a>\n",
    " - <a href=\"https://www.dataquest.io/blog/jupyter-notebook-tips-tricks-shortcuts/\">28 Jupyter Notebook tips and tricks</a>\n",
    " - <a href=\"http://jupyter-notebook.readthedocs.io/en/stable/\">Jupyter Notebook Official Documentation</a>\n",
    " - <a href=\"https://medium.com/ibm-data-science-experience/markdown-for-jupyter-notebooks-cheatsheet-386c05aeebed\"> Jupyter Markdowns</a>\n",
    " - <a href=\"https://docs.anaconda.com/\">Anaconda Documentation</a>\n",
    " - <a href=\"https://docs.python.org/2/howto/logging.html#\">HOWTO</a>\n",
    " - <a href=\"https://docs.python.org/2/howto/logging-cookbook.html#logging-cookbook\">Logging Cookbook</a>\n",
    " "
   ]
  },
  {
   "cell_type": "code",
   "execution_count": null,
   "metadata": {},
   "outputs": [],
   "source": []
  }
 ],
 "metadata": {
  "kernelspec": {
   "display_name": "Python 2",
   "language": "python",
   "name": "python2"
  },
  "language_info": {
   "codemirror_mode": {
    "name": "ipython",
    "version": 2
   },
   "file_extension": ".py",
   "mimetype": "text/x-python",
   "name": "python",
   "nbconvert_exporter": "python",
   "pygments_lexer": "ipython2",
   "version": "2.7.14"
  }
 },
 "nbformat": 4,
 "nbformat_minor": 2
}
